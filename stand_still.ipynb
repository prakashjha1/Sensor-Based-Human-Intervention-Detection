{
 "cells": [
  {
   "cell_type": "code",
   "execution_count": 1,
   "id": "e7c12010",
   "metadata": {},
   "outputs": [],
   "source": [
    "import pandas as pd\n",
    "import matplotlib.pyplot as plt"
   ]
  },
  {
   "cell_type": "code",
   "execution_count": 2,
   "id": "47c12b82",
   "metadata": {},
   "outputs": [
    {
     "data": {
      "text/html": [
       "<div>\n",
       "<style scoped>\n",
       "    .dataframe tbody tr th:only-of-type {\n",
       "        vertical-align: middle;\n",
       "    }\n",
       "\n",
       "    .dataframe tbody tr th {\n",
       "        vertical-align: top;\n",
       "    }\n",
       "\n",
       "    .dataframe thead th {\n",
       "        text-align: right;\n",
       "    }\n",
       "</style>\n",
       "<table border=\"1\" class=\"dataframe\">\n",
       "  <thead>\n",
       "    <tr style=\"text-align: right;\">\n",
       "      <th></th>\n",
       "      <th>0</th>\n",
       "      <th>1</th>\n",
       "      <th>2</th>\n",
       "      <th>3</th>\n",
       "      <th>4</th>\n",
       "    </tr>\n",
       "  </thead>\n",
       "  <tbody>\n",
       "    <tr>\n",
       "      <th>0</th>\n",
       "      <td>Rotation: -6.2608186620444055</td>\n",
       "      <td>Roll: -0.6553597653872715</td>\n",
       "      <td>Pitch: 27.080584787666893</td>\n",
       "      <td>Yaw: -14.198048770492308</td>\n",
       "      <td>Timestamp: 1754490888825</td>\n",
       "    </tr>\n",
       "    <tr>\n",
       "      <th>1</th>\n",
       "      <td>Rotation: -6.260645945481135</td>\n",
       "      <td>Roll: -0.6607951290098857</td>\n",
       "      <td>Pitch: 27.09369038712706</td>\n",
       "      <td>Yaw: -14.208183781036215</td>\n",
       "      <td>Timestamp: 1754490888815</td>\n",
       "    </tr>\n",
       "    <tr>\n",
       "      <th>2</th>\n",
       "      <td>Rotation: -6.260585484167251</td>\n",
       "      <td>Roll: -0.6628156989874572</td>\n",
       "      <td>Pitch: 27.102360979979252</td>\n",
       "      <td>Yaw: -14.216498455290214</td>\n",
       "      <td>Timestamp: 1754490888805</td>\n",
       "    </tr>\n",
       "    <tr>\n",
       "      <th>3</th>\n",
       "      <td>Rotation: -6.260610796761252</td>\n",
       "      <td>Roll: -0.6622312415632466</td>\n",
       "      <td>Pitch: 27.10791408518646</td>\n",
       "      <td>Yaw: -14.220827697307437</td>\n",
       "      <td>Timestamp: 1754490888795</td>\n",
       "    </tr>\n",
       "    <tr>\n",
       "      <th>4</th>\n",
       "      <td>Rotation: -6.260588572092504</td>\n",
       "      <td>Roll: -0.6629649886220053</td>\n",
       "      <td>Pitch: 27.11077145849073</td>\n",
       "      <td>Yaw: -14.220157252262613</td>\n",
       "      <td>Timestamp: 1754490888785</td>\n",
       "    </tr>\n",
       "  </tbody>\n",
       "</table>\n",
       "</div>"
      ],
      "text/plain": [
       "                               0                           1  \\\n",
       "0  Rotation: -6.2608186620444055   Roll: -0.6553597653872715   \n",
       "1   Rotation: -6.260645945481135   Roll: -0.6607951290098857   \n",
       "2   Rotation: -6.260585484167251   Roll: -0.6628156989874572   \n",
       "3   Rotation: -6.260610796761252   Roll: -0.6622312415632466   \n",
       "4   Rotation: -6.260588572092504   Roll: -0.6629649886220053   \n",
       "\n",
       "                            2                          3  \\\n",
       "0   Pitch: 27.080584787666893   Yaw: -14.198048770492308   \n",
       "1    Pitch: 27.09369038712706   Yaw: -14.208183781036215   \n",
       "2   Pitch: 27.102360979979252   Yaw: -14.216498455290214   \n",
       "3    Pitch: 27.10791408518646   Yaw: -14.220827697307437   \n",
       "4    Pitch: 27.11077145849073   Yaw: -14.220157252262613   \n",
       "\n",
       "                           4  \n",
       "0   Timestamp: 1754490888825  \n",
       "1   Timestamp: 1754490888815  \n",
       "2   Timestamp: 1754490888805  \n",
       "3   Timestamp: 1754490888795  \n",
       "4   Timestamp: 1754490888785  "
      ]
     },
     "execution_count": 2,
     "metadata": {},
     "output_type": "execute_result"
    }
   ],
   "source": [
    "df = pd.read_csv('..\\\\sensor_data\\\\stand_still.txt', sep=',',header=None)\n",
    "df.head()"
   ]
  },
  {
   "cell_type": "code",
   "execution_count": 3,
   "id": "2fdf206b",
   "metadata": {},
   "outputs": [],
   "source": [
    "df = df.map(lambda x: float(str(x).split(\":\")[-1]) if isinstance(x, str) else x)\n",
    "df.columns = [\"Rotation\", \"Roll\", \"Pitch\", \"Yaw\", \"Timestamp\"]"
   ]
  },
  {
   "cell_type": "code",
   "execution_count": 4,
   "id": "35fd6f40",
   "metadata": {},
   "outputs": [
    {
     "data": {
      "text/html": [
       "<div>\n",
       "<style scoped>\n",
       "    .dataframe tbody tr th:only-of-type {\n",
       "        vertical-align: middle;\n",
       "    }\n",
       "\n",
       "    .dataframe tbody tr th {\n",
       "        vertical-align: top;\n",
       "    }\n",
       "\n",
       "    .dataframe thead th {\n",
       "        text-align: right;\n",
       "    }\n",
       "</style>\n",
       "<table border=\"1\" class=\"dataframe\">\n",
       "  <thead>\n",
       "    <tr style=\"text-align: right;\">\n",
       "      <th></th>\n",
       "      <th>Rotation</th>\n",
       "      <th>Roll</th>\n",
       "      <th>Pitch</th>\n",
       "      <th>Yaw</th>\n",
       "      <th>Timestamp</th>\n",
       "    </tr>\n",
       "  </thead>\n",
       "  <tbody>\n",
       "    <tr>\n",
       "      <th>0</th>\n",
       "      <td>-6.260819</td>\n",
       "      <td>-0.655360</td>\n",
       "      <td>27.080585</td>\n",
       "      <td>-14.198049</td>\n",
       "      <td>1.754491e+12</td>\n",
       "    </tr>\n",
       "    <tr>\n",
       "      <th>1</th>\n",
       "      <td>-6.260646</td>\n",
       "      <td>-0.660795</td>\n",
       "      <td>27.093690</td>\n",
       "      <td>-14.208184</td>\n",
       "      <td>1.754491e+12</td>\n",
       "    </tr>\n",
       "    <tr>\n",
       "      <th>2</th>\n",
       "      <td>-6.260585</td>\n",
       "      <td>-0.662816</td>\n",
       "      <td>27.102361</td>\n",
       "      <td>-14.216498</td>\n",
       "      <td>1.754491e+12</td>\n",
       "    </tr>\n",
       "    <tr>\n",
       "      <th>3</th>\n",
       "      <td>-6.260611</td>\n",
       "      <td>-0.662231</td>\n",
       "      <td>27.107914</td>\n",
       "      <td>-14.220828</td>\n",
       "      <td>1.754491e+12</td>\n",
       "    </tr>\n",
       "    <tr>\n",
       "      <th>4</th>\n",
       "      <td>-6.260589</td>\n",
       "      <td>-0.662965</td>\n",
       "      <td>27.110771</td>\n",
       "      <td>-14.220157</td>\n",
       "      <td>1.754491e+12</td>\n",
       "    </tr>\n",
       "  </tbody>\n",
       "</table>\n",
       "</div>"
      ],
      "text/plain": [
       "   Rotation      Roll      Pitch        Yaw     Timestamp\n",
       "0 -6.260819 -0.655360  27.080585 -14.198049  1.754491e+12\n",
       "1 -6.260646 -0.660795  27.093690 -14.208184  1.754491e+12\n",
       "2 -6.260585 -0.662816  27.102361 -14.216498  1.754491e+12\n",
       "3 -6.260611 -0.662231  27.107914 -14.220828  1.754491e+12\n",
       "4 -6.260589 -0.662965  27.110771 -14.220157  1.754491e+12"
      ]
     },
     "execution_count": 4,
     "metadata": {},
     "output_type": "execute_result"
    }
   ],
   "source": [
    "df.head()"
   ]
  },
  {
   "cell_type": "code",
   "execution_count": 5,
   "id": "50f6bad3",
   "metadata": {},
   "outputs": [
    {
     "data": {
      "text/html": [
       "<div>\n",
       "<style scoped>\n",
       "    .dataframe tbody tr th:only-of-type {\n",
       "        vertical-align: middle;\n",
       "    }\n",
       "\n",
       "    .dataframe tbody tr th {\n",
       "        vertical-align: top;\n",
       "    }\n",
       "\n",
       "    .dataframe thead th {\n",
       "        text-align: right;\n",
       "    }\n",
       "</style>\n",
       "<table border=\"1\" class=\"dataframe\">\n",
       "  <thead>\n",
       "    <tr style=\"text-align: right;\">\n",
       "      <th></th>\n",
       "      <th>Rotation</th>\n",
       "      <th>Roll</th>\n",
       "      <th>Pitch</th>\n",
       "      <th>Yaw</th>\n",
       "    </tr>\n",
       "  </thead>\n",
       "  <tbody>\n",
       "    <tr>\n",
       "      <th>2025-08-06 14:34:48.825</th>\n",
       "      <td>-6.260819</td>\n",
       "      <td>-0.655360</td>\n",
       "      <td>27.080585</td>\n",
       "      <td>-14.198049</td>\n",
       "    </tr>\n",
       "    <tr>\n",
       "      <th>2025-08-06 14:34:48.815</th>\n",
       "      <td>-6.260646</td>\n",
       "      <td>-0.660795</td>\n",
       "      <td>27.093690</td>\n",
       "      <td>-14.208184</td>\n",
       "    </tr>\n",
       "    <tr>\n",
       "      <th>2025-08-06 14:34:48.805</th>\n",
       "      <td>-6.260585</td>\n",
       "      <td>-0.662816</td>\n",
       "      <td>27.102361</td>\n",
       "      <td>-14.216498</td>\n",
       "    </tr>\n",
       "    <tr>\n",
       "      <th>2025-08-06 14:34:48.795</th>\n",
       "      <td>-6.260611</td>\n",
       "      <td>-0.662231</td>\n",
       "      <td>27.107914</td>\n",
       "      <td>-14.220828</td>\n",
       "    </tr>\n",
       "    <tr>\n",
       "      <th>2025-08-06 14:34:48.785</th>\n",
       "      <td>-6.260589</td>\n",
       "      <td>-0.662965</td>\n",
       "      <td>27.110771</td>\n",
       "      <td>-14.220157</td>\n",
       "    </tr>\n",
       "  </tbody>\n",
       "</table>\n",
       "</div>"
      ],
      "text/plain": [
       "                         Rotation      Roll      Pitch        Yaw\n",
       "2025-08-06 14:34:48.825 -6.260819 -0.655360  27.080585 -14.198049\n",
       "2025-08-06 14:34:48.815 -6.260646 -0.660795  27.093690 -14.208184\n",
       "2025-08-06 14:34:48.805 -6.260585 -0.662816  27.102361 -14.216498\n",
       "2025-08-06 14:34:48.795 -6.260611 -0.662231  27.107914 -14.220828\n",
       "2025-08-06 14:34:48.785 -6.260589 -0.662965  27.110771 -14.220157"
      ]
     },
     "execution_count": 5,
     "metadata": {},
     "output_type": "execute_result"
    }
   ],
   "source": [
    "df['Timestamp'] = pd.to_datetime(df['Timestamp'], unit='ms')\n",
    "df.index = df['Timestamp'].values\n",
    "df.drop(columns=['Timestamp'],inplace=True)\n",
    "df.head()"
   ]
  },
  {
   "cell_type": "code",
   "execution_count": 6,
   "id": "102afaf7",
   "metadata": {},
   "outputs": [
    {
     "data": {
      "text/plain": [
       "(2269, 4)"
      ]
     },
     "execution_count": 6,
     "metadata": {},
     "output_type": "execute_result"
    }
   ],
   "source": [
    "df.shape # rows and columns in the data"
   ]
  },
  {
   "cell_type": "code",
   "execution_count": 7,
   "id": "25974ee2",
   "metadata": {},
   "outputs": [
    {
     "data": {
      "text/plain": [
       "Rotation    0\n",
       "Roll        0\n",
       "Pitch       0\n",
       "Yaw         0\n",
       "dtype: int64"
      ]
     },
     "execution_count": 7,
     "metadata": {},
     "output_type": "execute_result"
    }
   ],
   "source": [
    "# check missing values\n",
    "df.isnull().sum()"
   ]
  },
  {
   "cell_type": "code",
   "execution_count": 8,
   "id": "a265cdfb",
   "metadata": {},
   "outputs": [
    {
     "data": {
      "text/html": [
       "<div>\n",
       "<style scoped>\n",
       "    .dataframe tbody tr th:only-of-type {\n",
       "        vertical-align: middle;\n",
       "    }\n",
       "\n",
       "    .dataframe tbody tr th {\n",
       "        vertical-align: top;\n",
       "    }\n",
       "\n",
       "    .dataframe thead th {\n",
       "        text-align: right;\n",
       "    }\n",
       "</style>\n",
       "<table border=\"1\" class=\"dataframe\">\n",
       "  <thead>\n",
       "    <tr style=\"text-align: right;\">\n",
       "      <th></th>\n",
       "      <th>Rotation</th>\n",
       "      <th>Roll</th>\n",
       "      <th>Pitch</th>\n",
       "      <th>Yaw</th>\n",
       "    </tr>\n",
       "  </thead>\n",
       "  <tbody>\n",
       "    <tr>\n",
       "      <th>count</th>\n",
       "      <td>2269.000000</td>\n",
       "      <td>2269.000000</td>\n",
       "      <td>2269.000000</td>\n",
       "      <td>2269.000000</td>\n",
       "    </tr>\n",
       "    <tr>\n",
       "      <th>mean</th>\n",
       "      <td>-4.461944</td>\n",
       "      <td>-0.453446</td>\n",
       "      <td>29.678650</td>\n",
       "      <td>-12.386134</td>\n",
       "    </tr>\n",
       "    <tr>\n",
       "      <th>std</th>\n",
       "      <td>2.809726</td>\n",
       "      <td>1.660599</td>\n",
       "      <td>2.938924</td>\n",
       "      <td>2.539187</td>\n",
       "    </tr>\n",
       "    <tr>\n",
       "      <th>min</th>\n",
       "      <td>-6.283125</td>\n",
       "      <td>-4.652338</td>\n",
       "      <td>14.698805</td>\n",
       "      <td>-18.372487</td>\n",
       "    </tr>\n",
       "    <tr>\n",
       "      <th>25%</th>\n",
       "      <td>-6.258826</td>\n",
       "      <td>-1.115219</td>\n",
       "      <td>27.982087</td>\n",
       "      <td>-13.682458</td>\n",
       "    </tr>\n",
       "    <tr>\n",
       "      <th>50%</th>\n",
       "      <td>-6.245002</td>\n",
       "      <td>-0.712489</td>\n",
       "      <td>29.978872</td>\n",
       "      <td>-12.319998</td>\n",
       "    </tr>\n",
       "    <tr>\n",
       "      <th>75%</th>\n",
       "      <td>-0.106426</td>\n",
       "      <td>0.158938</td>\n",
       "      <td>32.038928</td>\n",
       "      <td>-11.620515</td>\n",
       "    </tr>\n",
       "    <tr>\n",
       "      <th>max</th>\n",
       "      <td>-0.000031</td>\n",
       "      <td>9.750309</td>\n",
       "      <td>34.541844</td>\n",
       "      <td>-0.403549</td>\n",
       "    </tr>\n",
       "  </tbody>\n",
       "</table>\n",
       "</div>"
      ],
      "text/plain": [
       "          Rotation         Roll        Pitch          Yaw\n",
       "count  2269.000000  2269.000000  2269.000000  2269.000000\n",
       "mean     -4.461944    -0.453446    29.678650   -12.386134\n",
       "std       2.809726     1.660599     2.938924     2.539187\n",
       "min      -6.283125    -4.652338    14.698805   -18.372487\n",
       "25%      -6.258826    -1.115219    27.982087   -13.682458\n",
       "50%      -6.245002    -0.712489    29.978872   -12.319998\n",
       "75%      -0.106426     0.158938    32.038928   -11.620515\n",
       "max      -0.000031     9.750309    34.541844    -0.403549"
      ]
     },
     "execution_count": 8,
     "metadata": {},
     "output_type": "execute_result"
    }
   ],
   "source": [
    "# summary of the data\n",
    "df.describe()"
   ]
  },
  {
   "cell_type": "code",
   "execution_count": 9,
   "id": "92660f54",
   "metadata": {},
   "outputs": [
    {
     "data": {
      "text/plain": [
       "<Axes: ylabel='Density'>"
      ]
     },
     "execution_count": 9,
     "metadata": {},
     "output_type": "execute_result"
    },
    {
     "data": {
      "image/png": "[encoded data removed]",
      "text/plain": [
       "<Figure size 640x480 with 1 Axes>"
      ]
     },
     "metadata": {},
     "output_type": "display_data"
    }
   ],
   "source": [
    "df.plot(kind='kde') # Distribution comparison of each column"
   ]
  },
  {
   "cell_type": "code",
   "execution_count": 10,
   "id": "505b47d6",
   "metadata": {},
   "outputs": [
    {
     "data": {
      "text/plain": [
       "array([<Axes: >, <Axes: >, <Axes: >, <Axes: >], dtype=object)"
      ]
     },
     "execution_count": 10,
     "metadata": {},
     "output_type": "execute_result"
    },
    {
     "data": {
      "image/png": "[encoded data removed]",
      "text/plain": [
       "<Figure size 640x480 with 4 Axes>"
      ]
     },
     "metadata": {},
     "output_type": "display_data"
    }
   ],
   "source": [
    "df.plot(subplots=True) # comparison of all the columns"
   ]
  },
  {
   "cell_type": "code",
   "execution_count": 11,
   "id": "9a7d28a9",
   "metadata": {},
   "outputs": [
    {
     "data": {
      "text/html": [
       "<div>\n",
       "<style scoped>\n",
       "    .dataframe tbody tr th:only-of-type {\n",
       "        vertical-align: middle;\n",
       "    }\n",
       "\n",
       "    .dataframe tbody tr th {\n",
       "        vertical-align: top;\n",
       "    }\n",
       "\n",
       "    .dataframe thead th {\n",
       "        text-align: right;\n",
       "    }\n",
       "</style>\n",
       "<table border=\"1\" class=\"dataframe\">\n",
       "  <thead>\n",
       "    <tr style=\"text-align: right;\">\n",
       "      <th></th>\n",
       "      <th>Rotation</th>\n",
       "      <th>Roll</th>\n",
       "      <th>Pitch</th>\n",
       "      <th>Yaw</th>\n",
       "    </tr>\n",
       "  </thead>\n",
       "  <tbody>\n",
       "    <tr>\n",
       "      <th>Rotation</th>\n",
       "      <td>1.000000</td>\n",
       "      <td>0.650941</td>\n",
       "      <td>0.213675</td>\n",
       "      <td>0.461293</td>\n",
       "    </tr>\n",
       "    <tr>\n",
       "      <th>Roll</th>\n",
       "      <td>0.650941</td>\n",
       "      <td>1.000000</td>\n",
       "      <td>-0.185751</td>\n",
       "      <td>0.410300</td>\n",
       "    </tr>\n",
       "    <tr>\n",
       "      <th>Pitch</th>\n",
       "      <td>0.213675</td>\n",
       "      <td>-0.185751</td>\n",
       "      <td>1.000000</td>\n",
       "      <td>0.164844</td>\n",
       "    </tr>\n",
       "    <tr>\n",
       "      <th>Yaw</th>\n",
       "      <td>0.461293</td>\n",
       "      <td>0.410300</td>\n",
       "      <td>0.164844</td>\n",
       "      <td>1.000000</td>\n",
       "    </tr>\n",
       "  </tbody>\n",
       "</table>\n",
       "</div>"
      ],
      "text/plain": [
       "          Rotation      Roll     Pitch       Yaw\n",
       "Rotation  1.000000  0.650941  0.213675  0.461293\n",
       "Roll      0.650941  1.000000 -0.185751  0.410300\n",
       "Pitch     0.213675 -0.185751  1.000000  0.164844\n",
       "Yaw       0.461293  0.410300  0.164844  1.000000"
      ]
     },
     "execution_count": 11,
     "metadata": {},
     "output_type": "execute_result"
    }
   ],
   "source": [
    "# Correlation between all the columns\n",
    "df.corr()"
   ]
  },
  {
   "cell_type": "code",
   "execution_count": null,
   "id": "68fc8c1a",
   "metadata": {},
   "outputs": [],
   "source": []
  }
 ],
 "metadata": {
  "kernelspec": {
   "display_name": "rough-work",
   "language": "python",
   "name": "python3"
  },
  "language_info": {
   "codemirror_mode": {
    "name": "ipython",
    "version": 3
   },
   "file_extension": ".py",
   "mimetype": "text/x-python",
   "name": "python",
   "nbconvert_exporter": "python",
   "pygments_lexer": "ipython3",
   "version": "3.11.13"
  }
 },
 "nbformat": 4,
 "nbformat_minor": 5
}
