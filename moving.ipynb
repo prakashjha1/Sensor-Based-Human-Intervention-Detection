{
 "cells": [
  {
   "cell_type": "code",
   "execution_count": 17,
   "id": "e7c12010",
   "metadata": {},
   "outputs": [],
   "source": [
    "import pandas as pd\n",
    "import matplotlib.pyplot as plt"
   ]
  },
  {
   "cell_type": "code",
   "execution_count": 26,
   "id": "47c12b82",
   "metadata": {},
   "outputs": [
    {
     "data": {
      "text/html": [
       "<div>\n",
       "<style scoped>\n",
       "    .dataframe tbody tr th:only-of-type {\n",
       "        vertical-align: middle;\n",
       "    }\n",
       "\n",
       "    .dataframe tbody tr th {\n",
       "        vertical-align: top;\n",
       "    }\n",
       "\n",
       "    .dataframe thead th {\n",
       "        text-align: right;\n",
       "    }\n",
       "</style>\n",
       "<table border=\"1\" class=\"dataframe\">\n",
       "  <thead>\n",
       "    <tr style=\"text-align: right;\">\n",
       "      <th></th>\n",
       "      <th>0</th>\n",
       "      <th>1</th>\n",
       "      <th>2</th>\n",
       "      <th>3</th>\n",
       "      <th>4</th>\n",
       "    </tr>\n",
       "  </thead>\n",
       "  <tbody>\n",
       "    <tr>\n",
       "      <th>0</th>\n",
       "      <td>Rotation: -0.2148395601924067</td>\n",
       "      <td>Roll: 2.1162315928909816</td>\n",
       "      <td>Pitch: 9.605064290809215</td>\n",
       "      <td>Yaw: -34.57627504257269</td>\n",
       "      <td>Timestamp: 1754491030408</td>\n",
       "    </tr>\n",
       "    <tr>\n",
       "      <th>1</th>\n",
       "      <td>Rotation: -0.2035677176479651</td>\n",
       "      <td>Roll: 2.0688782558361756</td>\n",
       "      <td>Pitch: 9.919823557370634</td>\n",
       "      <td>Yaw: -34.37986995039131</td>\n",
       "      <td>Timestamp: 1754491030399</td>\n",
       "    </tr>\n",
       "    <tr>\n",
       "      <th>2</th>\n",
       "      <td>Rotation: -0.19381314163368124</td>\n",
       "      <td>Roll: 2.0309274482862296</td>\n",
       "      <td>Pitch: 10.234819448384144</td>\n",
       "      <td>Yaw: -34.1860378903405</td>\n",
       "      <td>Timestamp: 1754491030389</td>\n",
       "    </tr>\n",
       "    <tr>\n",
       "      <th>3</th>\n",
       "      <td>Rotation: -0.18510859845192273</td>\n",
       "      <td>Roll: 1.9971712384981684</td>\n",
       "      <td>Pitch: 10.54288932846463</td>\n",
       "      <td>Yaw: -33.99626711615377</td>\n",
       "      <td>Timestamp: 1754491030379</td>\n",
       "    </tr>\n",
       "    <tr>\n",
       "      <th>4</th>\n",
       "      <td>Rotation: -0.17731702720131137</td>\n",
       "      <td>Roll: 1.965670873277235</td>\n",
       "      <td>Pitch: 10.835982920239244</td>\n",
       "      <td>Yaw: -33.80935248328424</td>\n",
       "      <td>Timestamp: 1754491030369</td>\n",
       "    </tr>\n",
       "  </tbody>\n",
       "</table>\n",
       "</div>"
      ],
      "text/plain": [
       "                                0                          1  \\\n",
       "0   Rotation: -0.2148395601924067   Roll: 2.1162315928909816   \n",
       "1   Rotation: -0.2035677176479651   Roll: 2.0688782558361756   \n",
       "2  Rotation: -0.19381314163368124   Roll: 2.0309274482862296   \n",
       "3  Rotation: -0.18510859845192273   Roll: 1.9971712384981684   \n",
       "4  Rotation: -0.17731702720131137    Roll: 1.965670873277235   \n",
       "\n",
       "                            2                         3  \\\n",
       "0    Pitch: 9.605064290809215   Yaw: -34.57627504257269   \n",
       "1    Pitch: 9.919823557370634   Yaw: -34.37986995039131   \n",
       "2   Pitch: 10.234819448384144    Yaw: -34.1860378903405   \n",
       "3    Pitch: 10.54288932846463   Yaw: -33.99626711615377   \n",
       "4   Pitch: 10.835982920239244   Yaw: -33.80935248328424   \n",
       "\n",
       "                           4  \n",
       "0   Timestamp: 1754491030408  \n",
       "1   Timestamp: 1754491030399  \n",
       "2   Timestamp: 1754491030389  \n",
       "3   Timestamp: 1754491030379  \n",
       "4   Timestamp: 1754491030369  "
      ]
     },
     "execution_count": 26,
     "metadata": {},
     "output_type": "execute_result"
    }
   ],
   "source": [
    "df = pd.read_csv('..\\\\sensor_data\\\\moving.txt', sep=',',header=None)\n",
    "df.head()"
   ]
  },
  {
   "cell_type": "code",
   "execution_count": 27,
   "id": "2fdf206b",
   "metadata": {},
   "outputs": [],
   "source": [
    "df = df.map(lambda x: float(str(x).split(\":\")[-1]) if isinstance(x, str) else x)\n",
    "df.columns = [\"Rotation\", \"Roll\", \"Pitch\", \"Yaw\", \"Timestamp\"]"
   ]
  },
  {
   "cell_type": "code",
   "execution_count": 28,
   "id": "35fd6f40",
   "metadata": {},
   "outputs": [
    {
     "data": {
      "text/html": [
       "<div>\n",
       "<style scoped>\n",
       "    .dataframe tbody tr th:only-of-type {\n",
       "        vertical-align: middle;\n",
       "    }\n",
       "\n",
       "    .dataframe tbody tr th {\n",
       "        vertical-align: top;\n",
       "    }\n",
       "\n",
       "    .dataframe thead th {\n",
       "        text-align: right;\n",
       "    }\n",
       "</style>\n",
       "<table border=\"1\" class=\"dataframe\">\n",
       "  <thead>\n",
       "    <tr style=\"text-align: right;\">\n",
       "      <th></th>\n",
       "      <th>Rotation</th>\n",
       "      <th>Roll</th>\n",
       "      <th>Pitch</th>\n",
       "      <th>Yaw</th>\n",
       "      <th>Timestamp</th>\n",
       "    </tr>\n",
       "  </thead>\n",
       "  <tbody>\n",
       "    <tr>\n",
       "      <th>0</th>\n",
       "      <td>-0.214840</td>\n",
       "      <td>2.116232</td>\n",
       "      <td>9.605064</td>\n",
       "      <td>-34.576275</td>\n",
       "      <td>1.754491e+12</td>\n",
       "    </tr>\n",
       "    <tr>\n",
       "      <th>1</th>\n",
       "      <td>-0.203568</td>\n",
       "      <td>2.068878</td>\n",
       "      <td>9.919824</td>\n",
       "      <td>-34.379870</td>\n",
       "      <td>1.754491e+12</td>\n",
       "    </tr>\n",
       "    <tr>\n",
       "      <th>2</th>\n",
       "      <td>-0.193813</td>\n",
       "      <td>2.030927</td>\n",
       "      <td>10.234819</td>\n",
       "      <td>-34.186038</td>\n",
       "      <td>1.754491e+12</td>\n",
       "    </tr>\n",
       "    <tr>\n",
       "      <th>3</th>\n",
       "      <td>-0.185109</td>\n",
       "      <td>1.997171</td>\n",
       "      <td>10.542889</td>\n",
       "      <td>-33.996267</td>\n",
       "      <td>1.754491e+12</td>\n",
       "    </tr>\n",
       "    <tr>\n",
       "      <th>4</th>\n",
       "      <td>-0.177317</td>\n",
       "      <td>1.965671</td>\n",
       "      <td>10.835983</td>\n",
       "      <td>-33.809352</td>\n",
       "      <td>1.754491e+12</td>\n",
       "    </tr>\n",
       "  </tbody>\n",
       "</table>\n",
       "</div>"
      ],
      "text/plain": [
       "   Rotation      Roll      Pitch        Yaw     Timestamp\n",
       "0 -0.214840  2.116232   9.605064 -34.576275  1.754491e+12\n",
       "1 -0.203568  2.068878   9.919824 -34.379870  1.754491e+12\n",
       "2 -0.193813  2.030927  10.234819 -34.186038  1.754491e+12\n",
       "3 -0.185109  1.997171  10.542889 -33.996267  1.754491e+12\n",
       "4 -0.177317  1.965671  10.835983 -33.809352  1.754491e+12"
      ]
     },
     "execution_count": 28,
     "metadata": {},
     "output_type": "execute_result"
    }
   ],
   "source": [
    "df.head()"
   ]
  },
  {
   "cell_type": "code",
   "execution_count": 29,
   "id": "50f6bad3",
   "metadata": {},
   "outputs": [
    {
     "data": {
      "text/html": [
       "<div>\n",
       "<style scoped>\n",
       "    .dataframe tbody tr th:only-of-type {\n",
       "        vertical-align: middle;\n",
       "    }\n",
       "\n",
       "    .dataframe tbody tr th {\n",
       "        vertical-align: top;\n",
       "    }\n",
       "\n",
       "    .dataframe thead th {\n",
       "        text-align: right;\n",
       "    }\n",
       "</style>\n",
       "<table border=\"1\" class=\"dataframe\">\n",
       "  <thead>\n",
       "    <tr style=\"text-align: right;\">\n",
       "      <th></th>\n",
       "      <th>Rotation</th>\n",
       "      <th>Roll</th>\n",
       "      <th>Pitch</th>\n",
       "      <th>Yaw</th>\n",
       "    </tr>\n",
       "  </thead>\n",
       "  <tbody>\n",
       "    <tr>\n",
       "      <th>2025-08-06 14:37:10.408</th>\n",
       "      <td>-0.214840</td>\n",
       "      <td>2.116232</td>\n",
       "      <td>9.605064</td>\n",
       "      <td>-34.576275</td>\n",
       "    </tr>\n",
       "    <tr>\n",
       "      <th>2025-08-06 14:37:10.399</th>\n",
       "      <td>-0.203568</td>\n",
       "      <td>2.068878</td>\n",
       "      <td>9.919824</td>\n",
       "      <td>-34.379870</td>\n",
       "    </tr>\n",
       "    <tr>\n",
       "      <th>2025-08-06 14:37:10.389</th>\n",
       "      <td>-0.193813</td>\n",
       "      <td>2.030927</td>\n",
       "      <td>10.234819</td>\n",
       "      <td>-34.186038</td>\n",
       "    </tr>\n",
       "    <tr>\n",
       "      <th>2025-08-06 14:37:10.379</th>\n",
       "      <td>-0.185109</td>\n",
       "      <td>1.997171</td>\n",
       "      <td>10.542889</td>\n",
       "      <td>-33.996267</td>\n",
       "    </tr>\n",
       "    <tr>\n",
       "      <th>2025-08-06 14:37:10.369</th>\n",
       "      <td>-0.177317</td>\n",
       "      <td>1.965671</td>\n",
       "      <td>10.835983</td>\n",
       "      <td>-33.809352</td>\n",
       "    </tr>\n",
       "  </tbody>\n",
       "</table>\n",
       "</div>"
      ],
      "text/plain": [
       "                         Rotation      Roll      Pitch        Yaw\n",
       "2025-08-06 14:37:10.408 -0.214840  2.116232   9.605064 -34.576275\n",
       "2025-08-06 14:37:10.399 -0.203568  2.068878   9.919824 -34.379870\n",
       "2025-08-06 14:37:10.389 -0.193813  2.030927  10.234819 -34.186038\n",
       "2025-08-06 14:37:10.379 -0.185109  1.997171  10.542889 -33.996267\n",
       "2025-08-06 14:37:10.369 -0.177317  1.965671  10.835983 -33.809352"
      ]
     },
     "execution_count": 29,
     "metadata": {},
     "output_type": "execute_result"
    }
   ],
   "source": [
    "df['Timestamp'] = pd.to_datetime(df['Timestamp'], unit='ms')\n",
    "df.index = df['Timestamp'].values\n",
    "df.drop(columns=['Timestamp'],inplace=True)\n",
    "df.head()"
   ]
  },
  {
   "cell_type": "code",
   "execution_count": null,
   "id": "102afaf7",
   "metadata": {},
   "outputs": [
    {
     "data": {
      "text/plain": [
       "(2044, 4)"
      ]
     },
     "execution_count": 30,
     "metadata": {},
     "output_type": "execute_result"
    }
   ],
   "source": [
    "df.shape # rows and columns in the data"
   ]
  },
  {
   "cell_type": "code",
   "execution_count": 31,
   "id": "25974ee2",
   "metadata": {},
   "outputs": [
    {
     "data": {
      "text/plain": [
       "Rotation    0\n",
       "Roll        0\n",
       "Pitch       0\n",
       "Yaw         0\n",
       "dtype: int64"
      ]
     },
     "execution_count": 31,
     "metadata": {},
     "output_type": "execute_result"
    }
   ],
   "source": [
    "# check missing values\n",
    "df.isnull().sum()"
   ]
  },
  {
   "cell_type": "code",
   "execution_count": 32,
   "id": "a265cdfb",
   "metadata": {},
   "outputs": [
    {
     "data": {
      "text/html": [
       "<div>\n",
       "<style scoped>\n",
       "    .dataframe tbody tr th:only-of-type {\n",
       "        vertical-align: middle;\n",
       "    }\n",
       "\n",
       "    .dataframe tbody tr th {\n",
       "        vertical-align: top;\n",
       "    }\n",
       "\n",
       "    .dataframe thead th {\n",
       "        text-align: right;\n",
       "    }\n",
       "</style>\n",
       "<table border=\"1\" class=\"dataframe\">\n",
       "  <thead>\n",
       "    <tr style=\"text-align: right;\">\n",
       "      <th></th>\n",
       "      <th>Rotation</th>\n",
       "      <th>Roll</th>\n",
       "      <th>Pitch</th>\n",
       "      <th>Yaw</th>\n",
       "    </tr>\n",
       "  </thead>\n",
       "  <tbody>\n",
       "    <tr>\n",
       "      <th>count</th>\n",
       "      <td>2044.000000</td>\n",
       "      <td>2044.000000</td>\n",
       "      <td>2044.000000</td>\n",
       "      <td>2044.000000</td>\n",
       "    </tr>\n",
       "    <tr>\n",
       "      <th>mean</th>\n",
       "      <td>-2.922081</td>\n",
       "      <td>-0.298363</td>\n",
       "      <td>24.668465</td>\n",
       "      <td>37.661672</td>\n",
       "    </tr>\n",
       "    <tr>\n",
       "      <th>std</th>\n",
       "      <td>3.020850</td>\n",
       "      <td>3.829462</td>\n",
       "      <td>6.059524</td>\n",
       "      <td>43.511779</td>\n",
       "    </tr>\n",
       "    <tr>\n",
       "      <th>min</th>\n",
       "      <td>-6.283049</td>\n",
       "      <td>-12.294913</td>\n",
       "      <td>6.923339</td>\n",
       "      <td>-34.576275</td>\n",
       "    </tr>\n",
       "    <tr>\n",
       "      <th>25%</th>\n",
       "      <td>-6.219409</td>\n",
       "      <td>-1.398620</td>\n",
       "      <td>21.673422</td>\n",
       "      <td>0.165503</td>\n",
       "    </tr>\n",
       "    <tr>\n",
       "      <th>50%</th>\n",
       "      <td>-0.316573</td>\n",
       "      <td>0.187204</td>\n",
       "      <td>24.342895</td>\n",
       "      <td>33.359149</td>\n",
       "    </tr>\n",
       "    <tr>\n",
       "      <th>75%</th>\n",
       "      <td>-0.072231</td>\n",
       "      <td>2.018007</td>\n",
       "      <td>29.433727</td>\n",
       "      <td>80.471112</td>\n",
       "    </tr>\n",
       "    <tr>\n",
       "      <th>max</th>\n",
       "      <td>-0.000086</td>\n",
       "      <td>9.231402</td>\n",
       "      <td>39.862271</td>\n",
       "      <td>110.685294</td>\n",
       "    </tr>\n",
       "  </tbody>\n",
       "</table>\n",
       "</div>"
      ],
      "text/plain": [
       "          Rotation         Roll        Pitch          Yaw\n",
       "count  2044.000000  2044.000000  2044.000000  2044.000000\n",
       "mean     -2.922081    -0.298363    24.668465    37.661672\n",
       "std       3.020850     3.829462     6.059524    43.511779\n",
       "min      -6.283049   -12.294913     6.923339   -34.576275\n",
       "25%      -6.219409    -1.398620    21.673422     0.165503\n",
       "50%      -0.316573     0.187204    24.342895    33.359149\n",
       "75%      -0.072231     2.018007    29.433727    80.471112\n",
       "max      -0.000086     9.231402    39.862271   110.685294"
      ]
     },
     "execution_count": 32,
     "metadata": {},
     "output_type": "execute_result"
    }
   ],
   "source": [
    "# summary of the data\n",
    "df.describe()"
   ]
  },
  {
   "cell_type": "code",
   "execution_count": null,
   "id": "92660f54",
   "metadata": {},
   "outputs": [
    {
     "data": {
      "text/plain": [
       "<Axes: ylabel='Density'>"
      ]
     },
     "execution_count": 34,
     "metadata": {},
     "output_type": "execute_result"
    },
    {
     "data": {
      "image/png": "[encoded data removed]",
      "text/plain": [
       "<Figure size 640x480 with 1 Axes>"
      ]
     },
     "metadata": {},
     "output_type": "display_data"
    }
   ],
   "source": [
    "df.plot(kind='kde') # Distribution comparison of each column"
   ]
  },
  {
   "cell_type": "code",
   "execution_count": null,
   "id": "505b47d6",
   "metadata": {},
   "outputs": [
    {
     "data": {
      "text/plain": [
       "array([<Axes: >, <Axes: >, <Axes: >, <Axes: >], dtype=object)"
      ]
     },
     "execution_count": 35,
     "metadata": {},
     "output_type": "execute_result"
    },
    {
     "data": {
      "image/png": "[encoded data removed]",
      "text/plain": [
       "<Figure size 640x480 with 4 Axes>"
      ]
     },
     "metadata": {},
     "output_type": "display_data"
    }
   ],
   "source": [
    "df.plot(subplots=True) # comparison of all the columns"
   ]
  },
  {
   "cell_type": "code",
   "execution_count": 37,
   "id": "9a7d28a9",
   "metadata": {},
   "outputs": [
    {
     "data": {
      "text/html": [
       "<div>\n",
       "<style scoped>\n",
       "    .dataframe tbody tr th:only-of-type {\n",
       "        vertical-align: middle;\n",
       "    }\n",
       "\n",
       "    .dataframe tbody tr th {\n",
       "        vertical-align: top;\n",
       "    }\n",
       "\n",
       "    .dataframe thead th {\n",
       "        text-align: right;\n",
       "    }\n",
       "</style>\n",
       "<table border=\"1\" class=\"dataframe\">\n",
       "  <thead>\n",
       "    <tr style=\"text-align: right;\">\n",
       "      <th></th>\n",
       "      <th>Rotation</th>\n",
       "      <th>Roll</th>\n",
       "      <th>Pitch</th>\n",
       "      <th>Yaw</th>\n",
       "    </tr>\n",
       "  </thead>\n",
       "  <tbody>\n",
       "    <tr>\n",
       "      <th>Rotation</th>\n",
       "      <td>1.000000</td>\n",
       "      <td>0.688572</td>\n",
       "      <td>-0.275227</td>\n",
       "      <td>0.205142</td>\n",
       "    </tr>\n",
       "    <tr>\n",
       "      <th>Roll</th>\n",
       "      <td>0.688572</td>\n",
       "      <td>1.000000</td>\n",
       "      <td>-0.253104</td>\n",
       "      <td>0.360530</td>\n",
       "    </tr>\n",
       "    <tr>\n",
       "      <th>Pitch</th>\n",
       "      <td>-0.275227</td>\n",
       "      <td>-0.253104</td>\n",
       "      <td>1.000000</td>\n",
       "      <td>-0.111919</td>\n",
       "    </tr>\n",
       "    <tr>\n",
       "      <th>Yaw</th>\n",
       "      <td>0.205142</td>\n",
       "      <td>0.360530</td>\n",
       "      <td>-0.111919</td>\n",
       "      <td>1.000000</td>\n",
       "    </tr>\n",
       "  </tbody>\n",
       "</table>\n",
       "</div>"
      ],
      "text/plain": [
       "          Rotation      Roll     Pitch       Yaw\n",
       "Rotation  1.000000  0.688572 -0.275227  0.205142\n",
       "Roll      0.688572  1.000000 -0.253104  0.360530\n",
       "Pitch    -0.275227 -0.253104  1.000000 -0.111919\n",
       "Yaw       0.205142  0.360530 -0.111919  1.000000"
      ]
     },
     "execution_count": 37,
     "metadata": {},
     "output_type": "execute_result"
    }
   ],
   "source": [
    "# Correlation between all the columns\n",
    "df.corr()"
   ]
  },
  {
   "cell_type": "code",
   "execution_count": null,
   "id": "68fc8c1a",
   "metadata": {},
   "outputs": [],
   "source": []
  }
 ],
 "metadata": {
  "kernelspec": {
   "display_name": "rough-work",
   "language": "python",
   "name": "python3"
  },
  "language_info": {
   "codemirror_mode": {
    "name": "ipython",
    "version": 3
   },
   "file_extension": ".py",
   "mimetype": "text/x-python",
   "name": "python",
   "nbconvert_exporter": "python",
   "pygments_lexer": "ipython3",
   "version": "3.11.13"
  }
 },
 "nbformat": 4,
 "nbformat_minor": 5
}
